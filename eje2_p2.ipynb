{
 "cells": [
  {
   "cell_type": "markdown",
   "id": "5cebc85d-27e2-4b74-bc44-afebdfb2fb08",
   "metadata": {},
   "source": [
    "## Importo la funcion counter() que me devuelve un diccionario con las palabras como claves y las veces que aparecio en el texto como valor"
   ]
  },
  {
   "cell_type": "code",
   "execution_count": 2,
   "id": "5427fa9a-8869-428b-8807-5a9453eaf27d",
   "metadata": {},
   "outputs": [],
   "source": [
    "from collections import Counter"
   ]
  },
  {
   "cell_type": "markdown",
   "id": "aa8cfc85-09eb-44d1-a0fa-cbf50e113cfc",
   "metadata": {},
   "source": [
    "##### Copio el texto de NumPy y lo guardo en una variable"
   ]
  },
  {
   "cell_type": "code",
   "execution_count": 3,
   "id": "08f2b156-3eae-4004-bcc5-2509d66008f8",
   "metadata": {},
   "outputs": [],
   "source": [
    "text = \"\"\"NumPy is the fundamental package for scientific computing with Python.\n",
    "\n",
    "Website: https://www.numpy.org\n",
    "Documentation: https://numpy.org/doc\n",
    "Mailing list: https://mail.python.org/mailman/listinfo/numpy-discussion\n",
    "Source code: https://github.com/numpy/numpy\n",
    "Contributing: https://www.numpy.org/devdocs/dev/index.html\n",
    "Bug reports: https://github.com/numpy/numpy/issues\n",
    "Report a security vulnerability: https://tidelift.com/docs/security\n",
    "It provides:\n",
    "\n",
    "a powerful N-dimensional array object\n",
    "sophisticated (broadcasting) functions\n",
    "tools for integrating C/C++ and Fortran code\n",
    "useful linear algebra, Fourier transform, and random number capabilities\n",
    "Testing:\n",
    "\n",
    "NumPy requires pytest and hypothesis. Tests can then be run after installation with:\n",
    "\n",
    "python -c \"import numpy, sys; sys.exit(numpy.test() is False)\"\n",
    "Code of Conduct\n",
    "NumPy is a community-driven open source project developed by a diverse group of contributors. The NumPy leadership has made a strong commitment to creating an open, inclusive, and positive community. Please read the NumPy Code of Conduct for guidance on how to interact with others in a way that makes our community thrive.\n",
    "\n",
    "Call for Contributions\n",
    "The NumPy project welcomes your expertise and enthusiasm!\n",
    "\n",
    "Small improvements or fixes are always appreciated. If you are considering larger contributions to the source code, please contact us through the mailing list first.\n",
    "\n",
    "Writing code isn’t the only way to contribute to NumPy. You can also:\n",
    "\n",
    "review pull requests\n",
    "help us stay on top of new and old issues\n",
    "develop tutorials, presentations, and other educational materials\n",
    "maintain and improve our website\n",
    "develop graphic design for our brand assets and promotional materials\n",
    "translate website content\n",
    "help with outreach and onboard new contributors\n",
    "write grant proposals and help with other fundraising efforts\n",
    "For more information about the ways you can contribute to NumPy, visit our website. If you’re unsure where to start or how your skills fit in, reach out! You can ask on the mailing list or here, on GitHub, by opening a new issue or leaving a comment on a relevant issue that is already open.\n",
    "\n",
    "Our preferred channels of communication are all public, but if you’d like to speak to us in private first, contact our community coordinators at numpy-team@googlegroups.com or on Slack (write numpy-team@googlegroups.com for an invitation).\n",
    "\n",
    "We also have a biweekly community call, details of which are announced on the mailing list. You are very welcome to join.\n",
    "\n",
    "If you are new to contributing to open source, this guide helps explain why, what, and how to successfully get involved.\n",
    "\"\"\""
   ]
  },
  {
   "cell_type": "markdown",
   "id": "963a1138-c3b3-4236-bbb4-fa96f68b00f5",
   "metadata": {},
   "source": [
    "##### Separo las palabras por los espacios y las guardo en una lista con la funcion split()"
   ]
  },
  {
   "cell_type": "code",
   "execution_count": 4,
   "id": "a8076029-e1a7-4eda-a645-26b2836cc5eb",
   "metadata": {},
   "outputs": [],
   "source": [
    "words_list = text.split(\" \")\n",
    "\n",
    "dict_words = Counter(word for word in words_list if len(word) > 4)"
   ]
  },
  {
   "cell_type": "markdown",
   "id": "9c50896b-b746-4650-90c1-410cbbbf6c60",
   "metadata": {},
   "source": [
    "#### Evaluo el valor maximo de cada clave(palabra) guarda en el diccionario creado con la funcion counter() "
   ]
  },
  {
   "cell_type": "code",
   "execution_count": 5,
   "id": "15c6b22c-af4b-4b69-84f0-a4715ff5f530",
   "metadata": {},
   "outputs": [],
   "source": [
    "max = -1\n",
    "word_max = \" \"\n",
    "\n",
    "for word in dict_words:\n",
    "    if dict_words[word] > max:\n",
    "        max = dict_words[word]\n",
    "        word_max = word"
   ]
  },
  {
   "cell_type": "code",
   "execution_count": 6,
   "id": "c721db09-9233-4385-8694-5e6a204c16c6",
   "metadata": {},
   "outputs": [
    {
     "name": "stdout",
     "output_type": "stream",
     "text": [
      " La palabra con 4 caracteres mas comun en aparecer fue: NumPy\n"
     ]
    }
   ],
   "source": [
    "print(f' La palabra con 4 caracteres mas comun en aparecer fue: {word_max}')"
   ]
  },
  {
   "cell_type": "code",
   "execution_count": null,
   "id": "e5bb4233-b655-4d61-8bc8-e5c46e56924a",
   "metadata": {},
   "outputs": [],
   "source": []
  }
 ],
 "metadata": {
  "kernelspec": {
   "display_name": "Python 3 (ipykernel)",
   "language": "python",
   "name": "python3"
  },
  "language_info": {
   "codemirror_mode": {
    "name": "ipython",
    "version": 3
   },
   "file_extension": ".py",
   "mimetype": "text/x-python",
   "name": "python",
   "nbconvert_exporter": "python",
   "pygments_lexer": "ipython3",
   "version": "3.11.7"
  }
 },
 "nbformat": 4,
 "nbformat_minor": 5
}
