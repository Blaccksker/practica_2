{
 "cells": [
  {
   "cell_type": "code",
   "execution_count": 85,
   "id": "5d33509f-6076-404a-9f29-9f1181c80d94",
   "metadata": {},
   "outputs": [],
   "source": [
    "def main(param, param_2):\n",
    "    list_words = param.lower().split(\" \")\n",
    "    cont = list_words.count(param_2.lower())\n",
    "    return cont"
   ]
  },
  {
   "cell_type": "code",
   "execution_count": 86,
   "id": "7a66a692-0c4c-4b8f-8720-8a7263b8bf46",
   "metadata": {},
   "outputs": [
    {
     "name": "stdin",
     "output_type": "stream",
     "text": [
      "Ingrese la frase:  Tres tristes tigres comian trigo en un trigal, con otros tres tristes tigres\n",
      "Ingrese la palabra:  tres\n"
     ]
    },
    {
     "name": "stdout",
     "output_type": "stream",
     "text": [
      "2\n"
     ]
    }
   ],
   "source": [
    "frase = input(\"Ingrese la frase: \")\n",
    "palabra = input(\"Ingrese la palabra: \")\n",
    "\n",
    "resultado = main(frase, palabra)\n",
    "\n",
    "print(resultado)"
   ]
  },
  {
   "cell_type": "code",
   "execution_count": null,
   "id": "0b84628a-597c-4c87-853b-4d1564d925e0",
   "metadata": {},
   "outputs": [],
   "source": []
  }
 ],
 "metadata": {
  "kernelspec": {
   "display_name": "Python 3 (ipykernel)",
   "language": "python",
   "name": "python3"
  },
  "language_info": {
   "codemirror_mode": {
    "name": "ipython",
    "version": 3
   },
   "file_extension": ".py",
   "mimetype": "text/x-python",
   "name": "python",
   "nbconvert_exporter": "python",
   "pygments_lexer": "ipython3",
   "version": "3.11.7"
  }
 },
 "nbformat": 4,
 "nbformat_minor": 5
}
