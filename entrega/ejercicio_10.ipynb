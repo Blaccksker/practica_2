{
 "cells": [
  {
   "cell_type": "markdown",
   "id": "dbbb1849-c3ff-4a28-9087-73c634e2cf55",
   "metadata": {},
   "source": [
    "#### Importo el paquete de funciones"
   ]
  },
  {
   "cell_type": "code",
   "execution_count": 2,
   "id": "5fac1ecb-96b7-4f45-8537-18a4b9463144",
   "metadata": {},
   "outputs": [],
   "source": [
    "import funciones"
   ]
  },
  {
   "cell_type": "markdown",
   "id": "40c1b784-132d-448e-88dc-e60e792bf202",
   "metadata": {},
   "source": [
    "#### Defino las constantes del programa"
   ]
  },
  {
   "cell_type": "code",
   "execution_count": 3,
   "id": "f09aea2a-e951-498e-ac46-7fefafd9af82",
   "metadata": {},
   "outputs": [],
   "source": [
    "names = \"\"\"Agustin, Yanina, Andrés, Ariadna, Bautista, CAROLINA, CESAR, David, Diego, Dolores, DYLAN, ELIANA, Emanuel, Fabián, Noelia, Francsica, FEDERICO, Fernanda, GONZALO, Nancy\"\"\"\n",
    "goals = [0, 10, 4, 0, 5, 14, 0, 0, 7, 2, 1, 1, 1, 5, 6, 1, 1, 2, 0, 11]\n",
    "goals_avoided = [0, 2, 0, 0, 5, 2, 0, 0, 1, 2, 0, 5, 5, 0, 1, 0, 2, 3, 0, 0]\n",
    "assists = [0, 5, 1, 0, 5, 2, 0, 0, 1, 2, 1, 5, 5, 0, 1, 0, 2, 3, 1, 0]"
   ]
  },
  {
   "cell_type": "markdown",
   "id": "b64efe53-0052-4068-86a4-73d35b97527d",
   "metadata": {},
   "source": [
    "#### Creo una lista con los nombres dados(a estos los convierto en mayusculas para un mejor control)\n",
    "#### Por la forma de la lista dada, uso la funcion split() separando los nombres por sus (, ) coma y espacio"
   ]
  },
  {
   "cell_type": "code",
   "execution_count": 4,
   "id": "1ab1f3e9-43bd-4867-8698-73c8c2ec38cf",
   "metadata": {},
   "outputs": [
    {
     "name": "stdout",
     "output_type": "stream",
     "text": [
      "['AGUSTIN', 'YANINA', 'ANDRÉS', 'ARIADNA', 'BAUTISTA', 'CAROLINA', 'CESAR', 'DAVID', 'DIEGO', 'DOLORES', 'DYLAN', 'ELIANA', 'EMANUEL', 'FABIÁN', 'NOELIA', 'FRANCSICA', 'FEDERICO', 'FERNANDA', 'GONZALO', 'NANCY']\n"
     ]
    }
   ],
   "source": [
    "list_names = names.upper().split(\", \")\n",
    "print(list_names)"
   ]
  },
  {
   "cell_type": "markdown",
   "id": "df5bcf0c-ea9e-469d-bebd-aa50d721ab13",
   "metadata": {},
   "source": [
    "#### Creo un diccionario con los nombres de los jugadores como clave y como valor creo otro diccionario \n",
    "#### con(goals, goals_avoided, assists) como claves y sus respectivas estadisticas del jugador como valores\n",
    "#### Esto lo hice usando la funcion (estructura()) importada de funciones"
   ]
  },
  {
   "cell_type": "code",
   "execution_count": 5,
   "id": "b594ce7d-cf30-4bdf-8b0e-eff7c5b671a7",
   "metadata": {},
   "outputs": [],
   "source": [
    "dic_jugadores = funciones.estructura(list_names, goals, goals_avoided, assists)"
   ]
  },
  {
   "cell_type": "markdown",
   "id": "7b97cc0f-f990-4eaf-bda5-ca9deb0a4973",
   "metadata": {},
   "source": [
    "##### a la variable 'opcion' se le debe dar un valor guiado por un menu de opciones"
   ]
  },
  {
   "cell_type": "markdown",
   "id": "a54e04aa-1535-49a5-8a9f-bbec5e1370bb",
   "metadata": {},
   "source": [
    "##### El bucle del while iterara mientras 'opcion' no sea '6'\n",
    "##### *CASO 1:* Caso 'opcion' = '1'-->  se imprimira el nombre del jugador con sus respectivas estadisticas\n",
    "##### *CASO 2:* Caso 'opcion' = '2'-->  se imprimira el nombre y los goles del goleador del club en el torneo\n",
    "##### *CASO 3:* Caso 'opcion' = '3'-->  se imprimira el nombre del jugador mas influyente del club en el torneo\n",
    "##### *CASO 4:* Caso 'opcion' = '4'-->  se imprimira el promedio de gol total de la temporada del club\n",
    "##### *CASO 5:* Caso 'opcion' = '5'-->  se imprimira el promedio de gol del jugador requerido(En caso de ingresar un jugador que no este en el diccionario de jugadores, se imprimira que este no se encuentra en el plantel)\n",
    "##### *CASO _:* Caso 'opcion' = 'cualquier cosa(no matcheada en los anteriores casos)'--> imprimira que es un error"
   ]
  },
  {
   "cell_type": "code",
   "execution_count": 6,
   "id": "73465810-87ec-416e-ba09-addcf9a3d54d",
   "metadata": {},
   "outputs": [
    {
     "name": "stdin",
     "output_type": "stream",
     "text": [
      "Bienvenido al gestor del plantel de rugby mixto!!\n",
      "                      Ingrese el numero de la accion que desea realizar:\n",
      "                      1 -Muestra el nombre de cada jugador del plantel con sus stats\n",
      "                      2 -Muestra el nombre y los goles del goleador del torneo\n",
      "                      3 -Muestra el nombre del jugador mas influyente del plantel\n",
      "                      4 -Muestra el promedio de gol por partido del plantel en general\n",
      "                      5 -Muestra el promedio de gol por partido del jugador que se desee\n",
      "                      6 -Salir\n",
      "                       1\n"
     ]
    },
    {
     "name": "stdout",
     "output_type": "stream",
     "text": [
      "****************************************************************************************************\n",
      " jugador: AGUSTIN, {'goals': 0, 'goals_avoided': 0, 'assists': 0}\n",
      " jugador: YANINA, {'goals': 10, 'goals_avoided': 2, 'assists': 5}\n",
      " jugador: ANDRÉS, {'goals': 4, 'goals_avoided': 0, 'assists': 1}\n",
      " jugador: ARIADNA, {'goals': 0, 'goals_avoided': 0, 'assists': 0}\n",
      " jugador: BAUTISTA, {'goals': 5, 'goals_avoided': 5, 'assists': 5}\n",
      " jugador: CAROLINA, {'goals': 14, 'goals_avoided': 2, 'assists': 2}\n",
      " jugador: CESAR, {'goals': 0, 'goals_avoided': 0, 'assists': 0}\n",
      " jugador: DAVID, {'goals': 0, 'goals_avoided': 0, 'assists': 0}\n",
      " jugador: DIEGO, {'goals': 7, 'goals_avoided': 1, 'assists': 1}\n",
      " jugador: DOLORES, {'goals': 2, 'goals_avoided': 2, 'assists': 2}\n",
      " jugador: DYLAN, {'goals': 1, 'goals_avoided': 0, 'assists': 1}\n",
      " jugador: ELIANA, {'goals': 1, 'goals_avoided': 5, 'assists': 5}\n",
      " jugador: EMANUEL, {'goals': 1, 'goals_avoided': 5, 'assists': 5}\n",
      " jugador: FABIÁN, {'goals': 5, 'goals_avoided': 0, 'assists': 0}\n",
      " jugador: NOELIA, {'goals': 6, 'goals_avoided': 1, 'assists': 1}\n",
      " jugador: FRANCSICA, {'goals': 1, 'goals_avoided': 0, 'assists': 0}\n",
      " jugador: FEDERICO, {'goals': 1, 'goals_avoided': 2, 'assists': 2}\n",
      " jugador: FERNANDA, {'goals': 2, 'goals_avoided': 3, 'assists': 3}\n",
      " jugador: GONZALO, {'goals': 0, 'goals_avoided': 0, 'assists': 1}\n",
      " jugador: NANCY, {'goals': 11, 'goals_avoided': 0, 'assists': 0}\n",
      "****************************************************************************************************\n"
     ]
    },
    {
     "name": "stdin",
     "output_type": "stream",
     "text": [
      "\n",
      "                      \n",
      "                      Ingrese el numero de la accion que desea realizar:\n",
      "                      1 -Muestra el nombre de cada jugador del plantel con sus stats\n",
      "                      2 -Muestra el nombre y los goles del goleador del torneo\n",
      "                      3 -Muestra el nombre del jugador mas influyente del plantel\n",
      "                      4 -Muestra el promedio de gol por partido del plantel en general\n",
      "                      5 -Muestra el promedio de gol por partido del jugador que se desee\n",
      "                      6 -Salir\n",
      "                       2\n"
     ]
    },
    {
     "name": "stdout",
     "output_type": "stream",
     "text": [
      "****************************************************************************************************\n",
      "El goleador del campeonato es: CAROLINA con un total de 14 goles\n",
      "****************************************************************************************************\n"
     ]
    },
    {
     "name": "stdin",
     "output_type": "stream",
     "text": [
      "\n",
      "                      \n",
      "                      Ingrese el numero de la accion que desea realizar:\n",
      "                      1 -Muestra el nombre de cada jugador del plantel con sus stats\n",
      "                      2 -Muestra el nombre y los goles del goleador del torneo\n",
      "                      3 -Muestra el nombre del jugador mas influyente del plantel\n",
      "                      4 -Muestra el promedio de gol por partido del plantel en general\n",
      "                      5 -Muestra el promedio de gol por partido del jugador que se desee\n",
      "                      6 -Salir\n",
      "                       3\n"
     ]
    },
    {
     "name": "stdout",
     "output_type": "stream",
     "text": [
      "****************************************************************************************************\n",
      "El jugador mas influyente de plantel es: CAROLINA\n",
      "****************************************************************************************************\n"
     ]
    },
    {
     "name": "stdin",
     "output_type": "stream",
     "text": [
      "\n",
      "                      \n",
      "                      Ingrese el numero de la accion que desea realizar:\n",
      "                      1 -Muestra el nombre de cada jugador del plantel con sus stats\n",
      "                      2 -Muestra el nombre y los goles del goleador del torneo\n",
      "                      3 -Muestra el nombre del jugador mas influyente del plantel\n",
      "                      4 -Muestra el promedio de gol por partido del plantel en general\n",
      "                      5 -Muestra el promedio de gol por partido del jugador que se desee\n",
      "                      6 -Salir\n",
      "                       4\n"
     ]
    },
    {
     "name": "stdout",
     "output_type": "stream",
     "text": [
      "****************************************************************************************************\n",
      "El promedio de gol por partido del plantel en general es de: 2.84\n",
      "****************************************************************************************************\n"
     ]
    },
    {
     "name": "stdin",
     "output_type": "stream",
     "text": [
      "\n",
      "                      \n",
      "                      Ingrese el numero de la accion que desea realizar:\n",
      "                      1 -Muestra el nombre de cada jugador del plantel con sus stats\n",
      "                      2 -Muestra el nombre y los goles del goleador del torneo\n",
      "                      3 -Muestra el nombre del jugador mas influyente del plantel\n",
      "                      4 -Muestra el promedio de gol por partido del plantel en general\n",
      "                      5 -Muestra el promedio de gol por partido del jugador que se desee\n",
      "                      6 -Salir\n",
      "                       5\n"
     ]
    },
    {
     "name": "stdout",
     "output_type": "stream",
     "text": [
      "****************************************************************************************************\n"
     ]
    },
    {
     "name": "stdin",
     "output_type": "stream",
     "text": [
      "Ingrese el nombre del jugador que desea analizar el promedio de gol:  emanuel\n"
     ]
    },
    {
     "name": "stdout",
     "output_type": "stream",
     "text": [
      "El jugador EMANUEL tiene un promedio de gol por partido de 0.04\n",
      "****************************************************************************************************\n"
     ]
    },
    {
     "name": "stdin",
     "output_type": "stream",
     "text": [
      "\n",
      "                      \n",
      "                      Ingrese el numero de la accion que desea realizar:\n",
      "                      1 -Muestra el nombre de cada jugador del plantel con sus stats\n",
      "                      2 -Muestra el nombre y los goles del goleador del torneo\n",
      "                      3 -Muestra el nombre del jugador mas influyente del plantel\n",
      "                      4 -Muestra el promedio de gol por partido del plantel en general\n",
      "                      5 -Muestra el promedio de gol por partido del jugador que se desee\n",
      "                      6 -Salir\n",
      "                       5\n"
     ]
    },
    {
     "name": "stdout",
     "output_type": "stream",
     "text": [
      "****************************************************************************************************\n"
     ]
    },
    {
     "name": "stdin",
     "output_type": "stream",
     "text": [
      "Ingrese el nombre del jugador que desea analizar el promedio de gol:  ivan\n"
     ]
    },
    {
     "name": "stdout",
     "output_type": "stream",
     "text": [
      "El jugador IVAN no se encuentra en el plantel.\n",
      "****************************************************************************************************\n"
     ]
    },
    {
     "name": "stdin",
     "output_type": "stream",
     "text": [
      "\n",
      "                      \n",
      "                      Ingrese el numero de la accion que desea realizar:\n",
      "                      1 -Muestra el nombre de cada jugador del plantel con sus stats\n",
      "                      2 -Muestra el nombre y los goles del goleador del torneo\n",
      "                      3 -Muestra el nombre del jugador mas influyente del plantel\n",
      "                      4 -Muestra el promedio de gol por partido del plantel en general\n",
      "                      5 -Muestra el promedio de gol por partido del jugador que se desee\n",
      "                      6 -Salir\n",
      "                       \n"
     ]
    },
    {
     "name": "stdout",
     "output_type": "stream",
     "text": [
      "****************************************************************************************************\n",
      "ERROR-- No se ingreso un valor valido\n",
      "****************************************************************************************************\n"
     ]
    },
    {
     "name": "stdin",
     "output_type": "stream",
     "text": [
      "\n",
      "                      \n",
      "                      Ingrese el numero de la accion que desea realizar:\n",
      "                      1 -Muestra el nombre de cada jugador del plantel con sus stats\n",
      "                      2 -Muestra el nombre y los goles del goleador del torneo\n",
      "                      3 -Muestra el nombre del jugador mas influyente del plantel\n",
      "                      4 -Muestra el promedio de gol por partido del plantel en general\n",
      "                      5 -Muestra el promedio de gol por partido del jugador que se desee\n",
      "                      6 -Salir\n",
      "                       6\n"
     ]
    },
    {
     "name": "stdout",
     "output_type": "stream",
     "text": [
      "****************************************************************************************************\n"
     ]
    }
   ],
   "source": [
    "opcion = input(\"\"\"Bienvenido al gestor del plantel de rugby mixto!!\n",
    "                      Ingrese el numero de la accion que desea realizar:\n",
    "                      1 -Muestra el nombre de cada jugador del plantel con sus stats\n",
    "                      2 -Muestra el nombre y los goles del goleador del torneo\n",
    "                      3 -Muestra el nombre del jugador mas influyente del plantel\n",
    "                      4 -Muestra el promedio de gol por partido del plantel en general\n",
    "                      5 -Muestra el promedio de gol por partido del jugador que se desee\n",
    "                      6 -Salir\n",
    "                      \"\"\")\n",
    "print(f'*' * 100)\n",
    "while opcion != \"6\":\n",
    "    match opcion:\n",
    "        case \"1\":\n",
    "            for jugador in dic_jugadores:\n",
    "                print(f' jugador: {jugador}, {dic_jugadores[jugador]}')\n",
    "        case \"2\":\n",
    "                nombre_goleador, goles = funciones.goleador(dic_jugadores)\n",
    "                print(f'El goleador del campeonato es: {nombre_goleador} con un total de {goles} goles')\n",
    "        case \"3\":\n",
    "                jugador_mas_influyente = funciones.mas_influyente(dic_jugadores)           \n",
    "                print(f'El jugador mas influyente de plantel es: {jugador_mas_influyente}')\n",
    "        case \"4\":\n",
    "                promedio_total = funciones.promedio_gol(dic_jugadores)\n",
    "                print(f'El promedio de gol por partido del plantel en general es de: {promedio_total}')\n",
    "        case \"5\":\n",
    "                nom = input(\"Ingrese el nombre del jugador que desea analizar el promedio de gol: \").upper()\n",
    "                if nom in dic_jugadores:\n",
    "            \n",
    "                    print(f'El jugador {nom} tiene un promedio de gol por partido de {funciones.promedio_gol_jugador(dic_jugadores, nom)}')\n",
    "                else:\n",
    "                    print(f'El jugador {nom} no se encuentra en el plantel.')\n",
    "        case _:\n",
    "            print(\"ERROR-- No se ingreso un valor valido\")\n",
    "    print(f'*' * 100)\n",
    "    opcion = input(\"\"\"\n",
    "                      \n",
    "                      Ingrese el numero de la accion que desea realizar:\n",
    "                      1 -Muestra el nombre de cada jugador del plantel con sus stats\n",
    "                      2 -Muestra el nombre y los goles del goleador del torneo\n",
    "                      3 -Muestra el nombre del jugador mas influyente del plantel\n",
    "                      4 -Muestra el promedio de gol por partido del plantel en general\n",
    "                      5 -Muestra el promedio de gol por partido del jugador que se desee\n",
    "                      6 -Salir\n",
    "                      \"\"\")\n",
    "    print(f'*' * 100)"
   ]
  },
  {
   "cell_type": "code",
   "execution_count": null,
   "id": "d748cba5-5669-4419-9515-eb0a64a7bd4c",
   "metadata": {},
   "outputs": [],
   "source": []
  }
 ],
 "metadata": {
  "kernelspec": {
   "display_name": "Python 3 (ipykernel)",
   "language": "python",
   "name": "python3"
  },
  "language_info": {
   "codemirror_mode": {
    "name": "ipython",
    "version": 3
   },
   "file_extension": ".py",
   "mimetype": "text/x-python",
   "name": "python",
   "nbconvert_exporter": "python",
   "pygments_lexer": "ipython3",
   "version": "3.11.7"
  }
 },
 "nbformat": 4,
 "nbformat_minor": 5
}
