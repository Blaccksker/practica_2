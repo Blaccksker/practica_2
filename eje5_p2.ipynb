{
 "cells": [
  {
   "cell_type": "code",
   "execution_count": 1,
   "id": "6d134433-7e6d-4b1c-8ceb-f2d9931c070e",
   "metadata": {},
   "outputs": [],
   "source": [
    "import string"
   ]
  },
  {
   "cell_type": "code",
   "execution_count": 2,
   "id": "f8e1f8de-2c0b-4d83-ae99-04827b81df72",
   "metadata": {},
   "outputs": [
    {
     "data": {
      "text/plain": [
       "'0123456789'"
      ]
     },
     "execution_count": 2,
     "metadata": {},
     "output_type": "execute_result"
    }
   ],
   "source": [
    "nums = string.digits\n",
    "nums"
   ]
  },
  {
   "cell_type": "code",
   "execution_count": 55,
   "id": "34c1b951-d181-4692-b7ce-0ea1c6d42d33",
   "metadata": {},
   "outputs": [],
   "source": [
    "article = \"\"\"título: Experiences in Developing a Distributed Agentbased Modeling Toolkit with Python Version 3\n",
    "resumen: Distributed agent-based modeling (ABM) on high-performance\n",
    "computing resources provides the promise of capturing unprecedented\n",
    "details of large-scale complex systems. However, the specialized\n",
    "knowledge required for developing such ABMs creates barriers to wider\n",
    "adoption and utilization. Here we present our experiences in\n",
    "developing an initial implementation of Repast4Py, a Python-based\n",
    "distributed ABM toolkit. We build on our experiences in developing ABM\n",
    "toolkits, including Repast for High Performance Computing (Repast\n",
    "HPC), to identify the key elements of a useful distributed ABM\n",
    "toolkit. We leverage the Numba, NumPy, and PyTorch packages and the\n",
    "Python C-API to create a scalable modeling system that can exploit the\n",
    "largest HPC resources and emerging computing architectures. \"\"\"\n"
   ]
  },
  {
   "cell_type": "code",
   "execution_count": 56,
   "id": "c1410d08-2827-4578-9662-261e3ff1a566",
   "metadata": {},
   "outputs": [
    {
     "name": "stdout",
     "output_type": "stream",
     "text": [
      "título: Experiences in Developing a Distributed Agentbased Modeling Toolkit with Python Version 3\n",
      "resumen: Distributed agent-based modeling (ABM) on high-performance\n",
      "computing resources provides the promise of capturing unprecedented\n",
      "details of large-scale complex systems. However, the specialized\n",
      "knowledge required for developing such ABMs creates barriers to wider\n",
      "adoption and utilization. Here we present our experiences in\n",
      "developing an initial implementation of Repast4Py, a Python-based\n",
      "distributed ABM toolkit. We build on our experiences in developing ABM\n",
      "toolkits, including Repast for High Performance Computing (Repast\n",
      "HPC), to identify the key elements of a useful distributed ABM\n",
      "toolkit. We leverage the Numba, NumPy, and PyTorch packages and the\n",
      "Python C-API to create a scalable modeling system that can exploit the\n",
      "largest HPC resources and emerging computing architectures. \n"
     ]
    }
   ],
   "source": [
    "art = article.splitlines()\n",
    "for line in art:\n",
    "    print(line)"
   ]
  },
  {
   "cell_type": "code",
   "execution_count": 57,
   "id": "41e2acf6-1fe6-485b-b76f-9b8fb1063452",
   "metadata": {},
   "outputs": [
    {
     "name": "stdout",
     "output_type": "stream",
     "text": [
      "título: Experiences in Developing a Distributed Agentbased Modeling Toolkit with Python Version 3\n"
     ]
    }
   ],
   "source": [
    "print(art[0])"
   ]
  },
  {
   "cell_type": "code",
   "execution_count": 72,
   "id": "6ea19ba0-e3a9-402f-811e-5185a95fa3f3",
   "metadata": {},
   "outputs": [],
   "source": [
    "def tit(param):\n",
    "    cant = 0\n",
    "    words_list = param.split(\" \")\n",
    "    print(words_list)\n",
    "    for word in words_list:\n",
    "        if word in nums:\n",
    "            continue\n",
    "        else:\n",
    "            cant += 1\n",
    "    print(cant)\n",
    "    if cant > 10:\n",
    "        return False\n",
    "    else:\n",
    "        return True\n",
    "\n",
    "        \n",
    "            "
   ]
  },
  {
   "cell_type": "code",
   "execution_count": 62,
   "id": "4e2a03a7-59fd-42bd-b648-e8c1787d9617",
   "metadata": {},
   "outputs": [],
   "source": [
    "art_resumen = art.copy()"
   ]
  },
  {
   "cell_type": "code",
   "execution_count": 63,
   "id": "18122205-5bdb-4ac8-946f-a424778ccdd7",
   "metadata": {},
   "outputs": [],
   "source": [
    "del art_resumen[0]"
   ]
  },
  {
   "cell_type": "code",
   "execution_count": 64,
   "id": "f0685d6a-347f-4c56-baee-38a843a36170",
   "metadata": {},
   "outputs": [
    {
     "name": "stdout",
     "output_type": "stream",
     "text": [
      "['resumen: Distributed agent-based modeling (ABM) on high-performance', 'computing resources provides the promise of capturing unprecedented', 'details of large-scale complex systems. However, the specialized', 'knowledge required for developing such ABMs creates barriers to wider', 'adoption and utilization. Here we present our experiences in', 'developing an initial implementation of Repast4Py, a Python-based', 'distributed ABM toolkit. We build on our experiences in developing ABM', 'toolkits, including Repast for High Performance Computing (Repast', 'HPC), to identify the key elements of a useful distributed ABM', 'toolkit. We leverage the Numba, NumPy, and PyTorch packages and the', 'Python C-API to create a scalable modeling system that can exploit the', 'largest HPC resources and emerging computing architectures. ']\n"
     ]
    }
   ],
   "source": [
    "print(art_resumen)"
   ]
  },
  {
   "cell_type": "code",
   "execution_count": 65,
   "id": "fca86f78-9b31-4a3a-9618-869177046f4d",
   "metadata": {},
   "outputs": [],
   "source": [
    "resu = \"\".join(art_resumen)"
   ]
  },
  {
   "cell_type": "code",
   "execution_count": 66,
   "id": "da2ce1ce-3f37-4f57-a5ae-33ad1d21c85c",
   "metadata": {},
   "outputs": [
    {
     "name": "stdout",
     "output_type": "stream",
     "text": [
      "resumen: Distributed agent-based modeling (ABM) on high-performancecomputing resources provides the promise of capturing unprecedenteddetails of large-scale complex systems. However, the specializedknowledge required for developing such ABMs creates barriers to wideradoption and utilization. Here we present our experiences indeveloping an initial implementation of Repast4Py, a Python-baseddistributed ABM toolkit. We build on our experiences in developing ABMtoolkits, including Repast for High Performance Computing (RepastHPC), to identify the key elements of a useful distributed ABMtoolkit. We leverage the Numba, NumPy, and PyTorch packages and thePython C-API to create a scalable modeling system that can exploit thelargest HPC resources and emerging computing architectures. \n"
     ]
    }
   ],
   "source": [
    "print(resu)"
   ]
  },
  {
   "cell_type": "code",
   "execution_count": 67,
   "id": "6c2815da-02e0-4b0a-b788-69d4f2d96513",
   "metadata": {},
   "outputs": [],
   "source": [
    "list_orations_of_resumen = resu.split(\".\")"
   ]
  },
  {
   "cell_type": "code",
   "execution_count": 68,
   "id": "a95f8742-90a7-4404-84ab-60c7d3e68037",
   "metadata": {},
   "outputs": [
    {
     "name": "stdout",
     "output_type": "stream",
     "text": [
      "resumen: Distributed agent-based modeling (ABM) on high-performancecomputing resources provides the promise of capturing unprecedenteddetails of large-scale complex systems\n",
      " However, the specializedknowledge required for developing such ABMs creates barriers to wideradoption and utilization\n",
      " Here we present our experiences indeveloping an initial implementation of Repast4Py, a Python-baseddistributed ABM toolkit\n",
      " We build on our experiences in developing ABMtoolkits, including Repast for High Performance Computing (RepastHPC), to identify the key elements of a useful distributed ABMtoolkit\n",
      " We leverage the Numba, NumPy, and PyTorch packages and thePython C-API to create a scalable modeling system that can exploit thelargest HPC resources and emerging computing architectures\n",
      " \n"
     ]
    }
   ],
   "source": [
    "for word in list_orations_of_resumen:\n",
    "    print(word)"
   ]
  },
  {
   "cell_type": "code",
   "execution_count": 69,
   "id": "e2fbe846-c969-4fca-b3a8-11a21310a8e8",
   "metadata": {},
   "outputs": [],
   "source": [
    "facil = 0\n",
    "aceptable = 0\n",
    "dificil = 0\n",
    "muy_dificil = 0\n",
    "oracion = []"
   ]
  },
  {
   "cell_type": "code",
   "execution_count": 70,
   "id": "650b7a2c-9f4f-47ab-b3bc-9b6a007e4377",
   "metadata": {},
   "outputs": [],
   "source": [
    "for oration in list_orations_of_resumen:\n",
    "    oracion = oration.split(\" \")\n",
    "    words = len(oracion)\n",
    "    match words:\n",
    "       case n if n <= 12:\n",
    "           facil += 1\n",
    "       case n if 13 <= n <= 17:\n",
    "           aceptable += 1\n",
    "       case n if 18 <= n <= 25:\n",
    "           dificil += 1\n",
    "       case _:\n",
    "           muy_dificil += 1"
   ]
  },
  {
   "cell_type": "code",
   "execution_count": 73,
   "id": "2b9c97a9-9046-4988-8e3c-934326bb74d9",
   "metadata": {},
   "outputs": [
    {
     "name": "stdout",
     "output_type": "stream",
     "text": [
      "['título:', 'Experiences', 'in', 'Developing', 'a', 'Distributed', 'Agentbased', 'Modeling', 'Toolkit', 'with', 'Python', 'Version', '3']\n",
      "12\n",
      "False\n"
     ]
    }
   ],
   "source": [
    "print(tit(art[0]))"
   ]
  },
  {
   "cell_type": "code",
   "execution_count": 75,
   "id": "c2b3433c-ab17-4c77-b498-1007c0192761",
   "metadata": {},
   "outputs": [
    {
     "name": "stdout",
     "output_type": "stream",
     "text": [
      " oraciones faciles: 1 , oraciones aceptables: 2 , dificiles: 1 , muy dificiles: 2\n"
     ]
    }
   ],
   "source": [
    "print(f' oraciones faciles: {facil} , oraciones aceptables: {aceptable} , dificiles: {dificil} , muy dificiles: {muy_dificil}')"
   ]
  },
  {
   "cell_type": "code",
   "execution_count": null,
   "id": "5c53b3fa-fdc2-4ea9-b0ff-d301f4d79509",
   "metadata": {},
   "outputs": [],
   "source": []
  }
 ],
 "metadata": {
  "kernelspec": {
   "display_name": "Python 3 (ipykernel)",
   "language": "python",
   "name": "python3"
  },
  "language_info": {
   "codemirror_mode": {
    "name": "ipython",
    "version": 3
   },
   "file_extension": ".py",
   "mimetype": "text/x-python",
   "name": "python",
   "nbconvert_exporter": "python",
   "pygments_lexer": "ipython3",
   "version": "3.11.7"
  }
 },
 "nbformat": 4,
 "nbformat_minor": 5
}
