{
 "cells": [
  {
   "cell_type": "markdown",
   "id": "a7ba10b3-6298-44b7-a5ca-dc09fe3c1b4c",
   "metadata": {},
   "source": [
    "##### Dada una frase contar mayúsculas, minúsculas, caracteres no letras y la cantidad de\n",
    "##### palabras sin distinguir entre mayúsculas y minúsculas.\n",
    "##### text = \"\"\" La brecha salarial alcanzó el 27,7%: las mujeres ocupadas\n",
    "##### debieron trabajar 8 días y 10 horas más que los varones ocupados para\n",
    "##### ganar lo mismo que ellos en un mes. \"\"\"\n"
   ]
  },
  {
   "cell_type": "code",
   "execution_count": 94,
   "id": "d09d30fe-ba75-44a4-a31a-223a35759305",
   "metadata": {},
   "outputs": [],
   "source": [
    "import string\n",
    "\n",
    "lower = string.ascii_lowercase\n",
    "upper = string.ascii_uppercase\n",
    "digits = string.digits"
   ]
  },
  {
   "cell_type": "code",
   "execution_count": 105,
   "id": "5007ac3f-447a-4260-9985-ade22132ed3e",
   "metadata": {},
   "outputs": [],
   "source": [
    "def main(param):\n",
    "   minu = 0\n",
    "   mayu = 0\n",
    "   car = 0\n",
    "\n",
    "   list_words = text.split(\" \")\n",
    "   for word in list_words:\n",
    "       for letter in word:\n",
    "           if letter in lower:\n",
    "               minu += 1\n",
    "           elif letter in upper:\n",
    "               mayu += 1\n",
    "           else:\n",
    "               car += 1\n",
    "\n",
    "   return minu, mayu, car"
   ]
  },
  {
   "cell_type": "code",
   "execution_count": 87,
   "id": "873d4193-b4e0-49ce-ab47-337d13e5b666",
   "metadata": {},
   "outputs": [],
   "source": [
    "text = \"\"\" La brecha salarial alcanzó el 27,7%: las mujeres ocupadas\n",
    "debieron trabajar 8 días y 10 horas más que los varones ocupados para\n",
    "ganar lo mismo que ellos en un mes. \"\"\"\n"
   ]
  },
  {
   "cell_type": "code",
   "execution_count": 107,
   "id": "ff2aa06d-e21d-4d74-8b6e-07dda93a7a3d",
   "metadata": {},
   "outputs": [],
   "source": [
    "minu , mayu, car = main(text)"
   ]
  },
  {
   "cell_type": "code",
   "execution_count": 109,
   "id": "d9c2e5cb-5620-4965-849f-c49977cad7c0",
   "metadata": {},
   "outputs": [
    {
     "name": "stdout",
     "output_type": "stream",
     "text": [
      "Minusculas: 120\n",
      "Mayusculas: 1\n",
      "No letras: 15\n",
      " La cantidad de palabras del texto es de: 30\n"
     ]
    }
   ],
   "source": [
    "print(f'Minusculas: {minu}')\n",
    "print(f'Mayusculas: {mayu}')\n",
    "print(f'No letras: {car}')\n",
    "\n",
    "words = text.split(\" \")\n",
    "print(f' La cantidad de palabras del texto es de: {len(words)}')"
   ]
  },
  {
   "cell_type": "code",
   "execution_count": null,
   "id": "03b1c6dc-89d7-4ef3-a5e0-fa6a7524c975",
   "metadata": {},
   "outputs": [],
   "source": []
  }
 ],
 "metadata": {
  "kernelspec": {
   "display_name": "Python 3 (ipykernel)",
   "language": "python",
   "name": "python3"
  },
  "language_info": {
   "codemirror_mode": {
    "name": "ipython",
    "version": 3
   },
   "file_extension": ".py",
   "mimetype": "text/x-python",
   "name": "python",
   "nbconvert_exporter": "python",
   "pygments_lexer": "ipython3",
   "version": "3.11.7"
  }
 },
 "nbformat": 4,
 "nbformat_minor": 5
}
