{
 "cells": [
  {
   "cell_type": "code",
   "execution_count": 121,
   "id": "acb3b66b-e59a-4349-af43-d88cf8f9a2e2",
   "metadata": {},
   "outputs": [],
   "source": [
    "from collections import Counter\n",
    "import string\n",
    "\n",
    "letter = string.ascii_letters"
   ]
  },
  {
   "cell_type": "code",
   "execution_count": 175,
   "id": "cd829bd8-a619-4ada-8339-57c419c5dec4",
   "metadata": {},
   "outputs": [],
   "source": [
    "def main(param):\n",
    "    dicc = Counter(param.lower())\n",
    "    car = {}\n",
    "    for letter in dicc:\n",
    "        if letter not in letters:\n",
    "            car[letter] = dicc[letter]\n",
    "    conjunto = set(letter for letter in dicc if letter.isalpha)\n",
    "    print(conjunto)\n",
    "    \n",
    "    resto = 0\n",
    "    \n",
    "    if car:\n",
    "        print(car)\n",
    "        print(car.values())\n",
    "        \n",
    "        for value in car.values():\n",
    "            if value > 1:\n",
    "                resto = value\n",
    "    palabra_modificada = len(param)\n",
    "    if resto > 1:\n",
    "        palabra_modificada = (len(conjunto) + resto) - 1\n",
    "    if (len(param)) == palabra_modificada:\n",
    "        return True\n",
    "    else:\n",
    "        return False\n",
    "        \n",
    "    "
   ]
  },
  {
   "cell_type": "code",
   "execution_count": 176,
   "id": "07f42edf-ff75-462e-a848-e7cb4dbb01af",
   "metadata": {},
   "outputs": [
    {
     "name": "stdin",
     "output_type": "stream",
     "text": [
      "Ingrese una palabra Cinçítar\n"
     ]
    },
    {
     "name": "stdout",
     "output_type": "stream",
     "text": [
      "{'í', 'a', 'c', 'i', 't', 'r', 'n', 'ç'}\n",
      "{'ç': 1, 'í': 1}\n",
      "dict_values([1, 1])\n",
      "Es heterogenea\n"
     ]
    }
   ],
   "source": [
    "palabra = input(\"Ingrese una palabra\")\n",
    "if main(palabra):\n",
    "    print(\"Es heterogenea\")\n",
    "else:\n",
    "    print(\"No es heterogenea\")\n",
    "\n"
   ]
  },
  {
   "cell_type": "code",
   "execution_count": null,
   "id": "0c98fa0a-3b7e-421a-a5f3-281901d851e1",
   "metadata": {},
   "outputs": [],
   "source": []
  }
 ],
 "metadata": {
  "kernelspec": {
   "display_name": "Python 3 (ipykernel)",
   "language": "python",
   "name": "python3"
  },
  "language_info": {
   "codemirror_mode": {
    "name": "ipython",
    "version": 3
   },
   "file_extension": ".py",
   "mimetype": "text/x-python",
   "name": "python",
   "nbconvert_exporter": "python",
   "pygments_lexer": "ipython3",
   "version": "3.11.7"
  }
 },
 "nbformat": 4,
 "nbformat_minor": 5
}
