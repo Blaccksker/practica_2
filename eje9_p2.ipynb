{
 "cells": [
  {
   "cell_type": "code",
   "execution_count": 180,
   "id": "acce5945-d543-4cf1-8229-9d209a968339",
   "metadata": {},
   "outputs": [],
   "source": [
    "valor_1 = (\"A\",\"E\",\"I\",\"O\",\"U\",\"L\",\"N\",\"R\",\"S\",\"T\")\n",
    "valor_2 = (\"D\",\"G\")\n",
    "valor_3 = (\"B\",\"C\",\"M\",\"P\")\n",
    "valor_4 = (\"F\",\"H\",\"V\",\"W\",\"Y\")\n",
    "valor_5 = (\"K\")\n",
    "valor_8 = (\"J\",\"X\")\n",
    "valor_10 = (\"Q\",\"Z\")"
   ]
  },
  {
   "cell_type": "code",
   "execution_count": 181,
   "id": "fb4068d4-c409-41ea-a62b-1192e9df6db7",
   "metadata": {},
   "outputs": [],
   "source": [
    "def main(param):\n",
    "    valor = 0\n",
    "    for letter in param:\n",
    "        match letter:\n",
    "           case n if n in valor_1:\n",
    "               valor += 1\n",
    "           case n if n in valor_2:\n",
    "               valor += 2\n",
    "           case n if n in valor_3:\n",
    "               valor += 3\n",
    "           case n if n in valor_4:\n",
    "               valor += 4\n",
    "           case n if n in valor_5:\n",
    "               valor += 5\n",
    "           case n if n in valor_8:\n",
    "               valor += 8\n",
    "           case n if n in valor_10:\n",
    "               valor += 10\n",
    "    return valor"
   ]
  },
  {
   "cell_type": "code",
   "execution_count": 185,
   "id": "6e004c7c-f779-43b7-bcf0-8cc724926934",
   "metadata": {},
   "outputs": [
    {
     "name": "stdin",
     "output_type": "stream",
     "text": [
      "Ingrese una palabra tomate\n"
     ]
    },
    {
     "name": "stdout",
     "output_type": "stream",
     "text": [
      " El valor de la palabra tomate es de: 8\n"
     ]
    }
   ],
   "source": [
    "word = input(\"Ingrese una palabra\")\n",
    "\n",
    "print(f' El valor de la palabra {word} es de: {main(word.upper())}')"
   ]
  },
  {
   "cell_type": "code",
   "execution_count": null,
   "id": "d7e61852-4dcb-49c2-9009-b5bec6cb4c37",
   "metadata": {},
   "outputs": [],
   "source": []
  }
 ],
 "metadata": {
  "kernelspec": {
   "display_name": "Python 3 (ipykernel)",
   "language": "python",
   "name": "python3"
  },
  "language_info": {
   "codemirror_mode": {
    "name": "ipython",
    "version": 3
   },
   "file_extension": ".py",
   "mimetype": "text/x-python",
   "name": "python",
   "nbconvert_exporter": "python",
   "pygments_lexer": "ipython3",
   "version": "3.11.7"
  }
 },
 "nbformat": 4,
 "nbformat_minor": 5
}
